{
 "cells": [
  {
   "cell_type": "code",
   "execution_count": 12,
   "metadata": {},
   "outputs": [],
   "source": [
    "    num_mels=80,  # Number of mel-spectrogram channels and local conditioning dimensionality\n",
    "    #  network\n",
    "    rescale=True,  # Whether to rescale audio prior to preprocessing\n",
    "    rescaling_max=0.9,  # Rescaling value\n",
    "\n",
    "    # Use LWS (https://github.com/Jonathan-LeRoux/lws) for STFT and phase reconstruction\n",
    "    # It\"s preferred to set True to use with https://github.com/r9y9/wavenet_vocoder\n",
    "    # Does not work if n_ffit is not multiple of hop_size!!\n",
    "    use_lws=False,\n",
    "\n",
    "    n_fft=800,  # Extra window size is filled with 0 paddings to match this parameter\n",
    "    hop_size=200,  # For 16000Hz, 200 = 12.5 ms (0.0125 * sample_rate)\n",
    "    win_size=800,  # For 16000Hz, 800 = 50 ms (If None, win_size = n_fft) (0.05 * sample_rate)\n",
    "    sample_rate=16000,  # 16000Hz (corresponding to librispeech) (sox --i <filename>)\n",
    "\n",
    "    frame_shift_ms=None,  # Can replace hop_size parameter. (Recommended: 12.5)\n",
    "\n",
    "    # Mel and Linear spectrograms normalization/scaling and clipping\n",
    "    signal_normalization=True,\n",
    "    # Whether to normalize mel spectrograms to some predefined range (following below parameters)\n",
    "    allow_clipping_in_normalization=True,  # Only relevant if mel_normalization = True\n",
    "    symmetric_mels=True,\n",
    "    # Whether to scale the data to be symmetric around 0. (Also multiplies the output range by 2,\n",
    "    # faster and cleaner convergence)\n",
    "    max_abs_value=4.,\n",
    "    # max absolute value of data. If symmetric, data will be [-max, max] else [0, max] (Must not\n",
    "    # be too big to avoid gradient explosion,\n",
    "    # not too small for fast convergence)\n",
    "    # Contribution by @begeekmyfriend\n",
    "    # Spectrogram Pre-Emphasis (Lfilter: Reduce spectrogram noise and helps model certitude\n",
    "    # levels. Also allows for better G&L phase reconstruction)\n",
    "    preemphasize=True,  # whether to apply filter\n",
    "    preemphasis=0.97,  # filter coefficient.\n",
    "\n",
    "    # Limits\n",
    "    min_level_db=-100,\n",
    "    ref_level_db=20,\n",
    "    fmin=55,\n",
    "    # Set this to 55 if your speaker is male! if female, 95 should help taking off noise. (To\n",
    "    # test depending on dataset. Pitch info: male~[65, 260], female~[100, 525])\n",
    "    fmax=7600,  # To be increased/reduced depending on data.\n",
    "\n",
    "    ###################### Our training parameters #################################\n",
    "    img_size=288,\n",
    "    fps=25,\n",
    "\n",
    "    batch_size=8,\n",
    "    initial_learning_rate=1e-4,\n",
    "    nepochs=200000000000000000,\n",
    "    ### ctrl + c, stop whenever eval loss is consistently greater than train loss for ~10 epochs\n",
    "    num_workers=4,\n",
    "    checkpoint_interval=6000,\n",
    "    eval_interval=6000,\n",
    "    save_optimizer_state=True,\n",
    "\n",
    "    syncnet_wt=0.0,  # is initially zero, will be set automatically to 0.03 later. Leads to faster convergence.\n",
    "    syncnet_batch_size=128,\n",
    "    syncnet_lr=1e-4,\n",
    "    syncnet_eval_interval=4500,\n",
    "    syncnet_checkpoint_interval=4500,\n",
    "\n",
    "    disc_wt=0.07,\n",
    "    disc_initial_learning_rate=1e-4,"
   ]
  },
  {
   "cell_type": "code",
   "execution_count": null,
   "metadata": {},
   "outputs": [],
   "source": []
  },
  {
   "cell_type": "code",
   "execution_count": 17,
   "metadata": {},
   "outputs": [],
   "source": []
  },
  {
   "cell_type": "code",
   "execution_count": 18,
   "metadata": {},
   "outputs": [
    {
     "data": {
      "text/plain": [
       "torch.Size([2, 80, 9985])"
      ]
     },
     "execution_count": 18,
     "metadata": {},
     "output_type": "execute_result"
    }
   ],
   "source": [
    "mel_spectrogram.shape"
   ]
  },
  {
   "cell_type": "code",
   "execution_count": null,
   "metadata": {},
   "outputs": [],
   "source": []
  },
  {
   "cell_type": "code",
   "execution_count": null,
   "metadata": {},
   "outputs": [],
   "source": []
  },
  {
   "cell_type": "code",
   "execution_count": null,
   "metadata": {},
   "outputs": [],
   "source": []
  }
 ],
 "metadata": {
  "kernelspec": {
   "display_name": "hkf-retalk",
   "language": "python",
   "name": "python3"
  },
  "language_info": {
   "codemirror_mode": {
    "name": "ipython",
    "version": 3
   },
   "file_extension": ".py",
   "mimetype": "text/x-python",
   "name": "python",
   "nbconvert_exporter": "python",
   "pygments_lexer": "ipython3",
   "version": "3.8.18"
  }
 },
 "nbformat": 4,
 "nbformat_minor": 2
}
