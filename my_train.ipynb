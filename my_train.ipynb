{
 "cells": [
  {
   "cell_type": "code",
   "execution_count": 46,
   "metadata": {},
   "outputs": [
    {
     "name": "stderr",
     "output_type": "stream",
     "text": [
      "I0000 00:00:1706178458.825490    7027 gl_context_egl.cc:85] Successfully initialized EGL. Major : 1 Minor: 5\n",
      "I0000 00:00:1706178458.847544    3080 gl_context.cc:344] GL version: 3.2 (OpenGL ES 3.2 NVIDIA 525.60.13), renderer: NVIDIA GeForce RTX 4090/PCIe/SSE2\n"
     ]
    },
    {
     "ename": "AttributeError",
     "evalue": "'list' object has no attribute 'landmark'",
     "output_type": "error",
     "traceback": [
      "\u001b[0;31m---------------------------------------------------------------------------\u001b[0m",
      "\u001b[0;31mAttributeError\u001b[0m                            Traceback (most recent call last)",
      "Cell \u001b[0;32mIn[46], line 33\u001b[0m\n\u001b[1;32m     30\u001b[0m         \u001b[38;5;28;01mfor\u001b[39;00m face_landmarks \u001b[38;5;129;01min\u001b[39;00m results\u001b[38;5;241m.\u001b[39mmulti_face_landmarks:\n\u001b[1;32m     31\u001b[0m             \u001b[38;5;66;03m# 仅绘制唇部关键点\u001b[39;00m\n\u001b[1;32m     32\u001b[0m             lip_landmarks \u001b[38;5;241m=\u001b[39m [face_landmarks\u001b[38;5;241m.\u001b[39mlandmark[i] \u001b[38;5;28;01mfor\u001b[39;00m i \u001b[38;5;129;01min\u001b[39;00m \u001b[38;5;28mlist\u001b[39m(\u001b[38;5;28mrange\u001b[39m(\u001b[38;5;241m0\u001b[39m, \u001b[38;5;241m17\u001b[39m)) \u001b[38;5;241m+\u001b[39m \u001b[38;5;28mlist\u001b[39m(\u001b[38;5;28mrange\u001b[39m(\u001b[38;5;241m291\u001b[39m, \u001b[38;5;241m309\u001b[39m))]\n\u001b[0;32m---> 33\u001b[0m             \u001b[43mmp_drawing\u001b[49m\u001b[38;5;241;43m.\u001b[39;49m\u001b[43mdraw_landmarks\u001b[49m\u001b[43m(\u001b[49m\u001b[43mimage_rgb\u001b[49m\u001b[43m,\u001b[49m\u001b[43m \u001b[49m\u001b[43mlip_landmarks\u001b[49m\u001b[43m,\u001b[49m\u001b[43m \u001b[49m\u001b[43mmp_face_mesh\u001b[49m\u001b[38;5;241;43m.\u001b[39;49m\u001b[43mFACEMESH_TESSELATION\u001b[49m\u001b[43m,\u001b[49m\n\u001b[1;32m     34\u001b[0m \u001b[43m                                      \u001b[49m\u001b[43mlandmark_drawing_spec\u001b[49m\u001b[38;5;241;43m=\u001b[39;49m\u001b[43mlandmark_drawing_spec\u001b[49m\u001b[43m)\u001b[49m\n\u001b[1;32m     36\u001b[0m \u001b[38;5;66;03m# 使用matplotlib显示带有人脸关键点的图片\u001b[39;00m\n\u001b[1;32m     37\u001b[0m plt\u001b[38;5;241m.\u001b[39mimshow(image_rgb)\n",
      "File \u001b[0;32m/home/anaconda3/envs/hkf-retalk/lib/python3.8/site-packages/mediapipe/python/solutions/drawing_utils.py:160\u001b[0m, in \u001b[0;36mdraw_landmarks\u001b[0;34m(image, landmark_list, connections, landmark_drawing_spec, connection_drawing_spec, is_drawing_landmarks)\u001b[0m\n\u001b[1;32m    158\u001b[0m image_rows, image_cols, _ \u001b[38;5;241m=\u001b[39m image\u001b[38;5;241m.\u001b[39mshape\n\u001b[1;32m    159\u001b[0m idx_to_coordinates \u001b[38;5;241m=\u001b[39m {}\n\u001b[0;32m--> 160\u001b[0m \u001b[38;5;28;01mfor\u001b[39;00m idx, landmark \u001b[38;5;129;01min\u001b[39;00m \u001b[38;5;28menumerate\u001b[39m(\u001b[43mlandmark_list\u001b[49m\u001b[38;5;241;43m.\u001b[39;49m\u001b[43mlandmark\u001b[49m):\n\u001b[1;32m    161\u001b[0m   \u001b[38;5;28;01mif\u001b[39;00m ((landmark\u001b[38;5;241m.\u001b[39mHasField(\u001b[38;5;124m'\u001b[39m\u001b[38;5;124mvisibility\u001b[39m\u001b[38;5;124m'\u001b[39m) \u001b[38;5;129;01mand\u001b[39;00m\n\u001b[1;32m    162\u001b[0m        landmark\u001b[38;5;241m.\u001b[39mvisibility \u001b[38;5;241m<\u001b[39m _VISIBILITY_THRESHOLD) \u001b[38;5;129;01mor\u001b[39;00m\n\u001b[1;32m    163\u001b[0m       (landmark\u001b[38;5;241m.\u001b[39mHasField(\u001b[38;5;124m'\u001b[39m\u001b[38;5;124mpresence\u001b[39m\u001b[38;5;124m'\u001b[39m) \u001b[38;5;129;01mand\u001b[39;00m\n\u001b[1;32m    164\u001b[0m        landmark\u001b[38;5;241m.\u001b[39mpresence \u001b[38;5;241m<\u001b[39m _PRESENCE_THRESHOLD)):\n\u001b[1;32m    165\u001b[0m     \u001b[38;5;28;01mcontinue\u001b[39;00m\n",
      "\u001b[0;31mAttributeError\u001b[0m: 'list' object has no attribute 'landmark'"
     ]
    }
   ],
   "source": [
    "import cv2\n",
    "import mediapipe as mp\n",
    "import matplotlib.pyplot as plt\n",
    "\n",
    "# 初始化mediapipe的人脸关键点检测和绘制组件\n",
    "mp_face_mesh = mp.solutions.face_mesh\n",
    "mp_drawing = mp.solutions.drawing_utils\n",
    "\n",
    "# 自定义关键点的绘制样式\n",
    "landmark_drawing_spec = mp_drawing.DrawingSpec(color=(0, 255, 0), thickness=1, circle_radius=1)\n",
    "\n",
    "# 读取图片\n",
    "image_path = \"data/test/video_preprocess/lrs2_face128/test/fengzhi_hq_25/0.png\"  # 请替换为你的图片路径\n",
    "image = cv2.imread(image_path)\n",
    "\n",
    "# 将图片转换为RGB格式\n",
    "image_rgb = cv2.cvtColor(image, cv2.COLOR_BGR2RGB)\n",
    "\n",
    "# 设置人脸关键点检测模型\n",
    "with mp_face_mesh.FaceMesh(static_image_mode=True,\n",
    "                           max_num_faces=1,\n",
    "                           min_detection_confidence=0.5,\n",
    "                           min_tracking_confidence=0.5) as face_mesh:\n",
    "\n",
    "    # 处理图片并获取检测结果\n",
    "    results = face_mesh.process(image_rgb)\n",
    "\n",
    "    # 在检测到的每个人脸上绘制唇部关键点\n",
    "    if results.multi_face_landmarks:\n",
    "        for face_landmarks in results.multi_face_landmarks:\n",
    "            # 仅绘制唇部关键点\n",
    "            lip_landmarks = [face_landmarks.landmark[i] for i in range(0, 309) if 17 <i<291]\n",
    "            mp_drawing.draw_landmarks(image_rgb, lip_landmarks, mp_face_mesh.FACEMESH_TESSELATION,\n",
    "                                      landmark_drawing_spec=landmark_drawing_spec)\n",
    "\n",
    "# 使用matplotlib显示带有人脸关键点的图片\n",
    "plt.imshow(image_rgb)\n",
    "plt.show()\n"
   ]
  },
  {
   "cell_type": "code",
   "execution_count": 44,
   "metadata": {},
   "outputs": [
    {
     "ename": "TypeError",
     "evalue": "unsupported operand type(s) for +: 'range' and 'range'",
     "output_type": "error",
     "traceback": [
      "\u001b[0;31m---------------------------------------------------------------------------\u001b[0m",
      "\u001b[0;31mTypeError\u001b[0m                                 Traceback (most recent call last)",
      "Cell \u001b[0;32mIn[44], line 1\u001b[0m\n\u001b[0;32m----> 1\u001b[0m [face_landmarks\u001b[38;5;241m.\u001b[39mlandmark[i] \u001b[38;5;28;01mfor\u001b[39;00m i \u001b[38;5;129;01min\u001b[39;00m \u001b[38;5;28;43mrange\u001b[39;49m\u001b[43m(\u001b[49m\u001b[38;5;241;43m0\u001b[39;49m\u001b[43m,\u001b[49m\u001b[43m \u001b[49m\u001b[38;5;241;43m17\u001b[39;49m\u001b[43m)\u001b[49m\u001b[43m \u001b[49m\u001b[38;5;241;43m+\u001b[39;49m\u001b[43m \u001b[49m\u001b[38;5;28;43mrange\u001b[39;49m\u001b[43m(\u001b[49m\u001b[38;5;241;43m291\u001b[39;49m\u001b[43m,\u001b[49m\u001b[43m \u001b[49m\u001b[38;5;241;43m309\u001b[39;49m\u001b[43m)\u001b[49m]\n",
      "\u001b[0;31mTypeError\u001b[0m: unsupported operand type(s) for +: 'range' and 'range'"
     ]
    }
   ],
   "source": [
    "[face_landmarks.landmark[i] for i in range(0, 17) + range(291, 309)]"
   ]
  },
  {
   "cell_type": "code",
   "execution_count": null,
   "metadata": {},
   "outputs": [],
   "source": []
  },
  {
   "cell_type": "code",
   "execution_count": null,
   "metadata": {},
   "outputs": [],
   "source": []
  },
  {
   "cell_type": "code",
   "execution_count": null,
   "metadata": {},
   "outputs": [],
   "source": []
  },
  {
   "cell_type": "code",
   "execution_count": null,
   "metadata": {},
   "outputs": [],
   "source": [
    "x[]"
   ]
  }
 ],
 "metadata": {
  "kernelspec": {
   "display_name": "hkf-retalk",
   "language": "python",
   "name": "python3"
  },
  "language_info": {
   "codemirror_mode": {
    "name": "ipython",
    "version": 3
   },
   "file_extension": ".py",
   "mimetype": "text/x-python",
   "name": "python",
   "nbconvert_exporter": "python",
   "pygments_lexer": "ipython3",
   "version": "3.8.18"
  }
 },
 "nbformat": 4,
 "nbformat_minor": 2
}
